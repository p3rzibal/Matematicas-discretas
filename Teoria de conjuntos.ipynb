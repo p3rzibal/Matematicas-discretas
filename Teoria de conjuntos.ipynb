{
 "cells": [
  {
   "cell_type": "markdown",
   "id": "12c2f8e9",
   "metadata": {},
   "source": [
    "# Teoria de conjuntos\n",
    "La teoría de conjuntos es una rama de la lógica matemática que estudia las propiedades y relaciones de los conjuntos: colecciones abstractas de objetos, consideradas como objetos en sí mismas. Los conjuntos y sus operaciones más elementales son una herramienta básica que permite formular de cualquier otra teoría matemática.\n",
    "\n",
    "La teoría de los conjuntos es lo suficientemente flexible y general como para construir el resto de objetos y estructuras de interés en matemáticas: números, funciones, figuras geométricas, etc; gracias a las herramientas de la lógica, permite estudiar los fundamentos.\n",
    "\n",
    "Además, la propia teoría de conjuntos es objeto de estudio per se, no solo como herramienta auxiliar, en particular las propiedades y relaciones de los conjuntos infinitos. En esta disciplina es habitual que se presenten casos de propiedades indemostrables o contradictorias, como la hipótesis del continuo o la existencia de algún cardinal inaccesible. Por esta razón, sus razonamientos y técnicas se apoyan en gran medida en la lógica matemática."
   ]
  },
  {
   "cell_type": "markdown",
   "id": "797c146a",
   "metadata": {},
   "source": [
    "## Creacion de conjuntos\n",
    "En python, puedes crear conjuntos utilisando llaves {} o la funcion set()"
   ]
  },
  {
   "cell_type": "code",
   "execution_count": 1,
   "id": "77721ab5",
   "metadata": {},
   "outputs": [],
   "source": [
    "A = {1, 2, 3, 4, 5}"
   ]
  },
  {
   "cell_type": "code",
   "execution_count": 2,
   "id": "a2e1b3c0",
   "metadata": {},
   "outputs": [],
   "source": [
    "B = {3, 4, 5, 6, 7}"
   ]
  },
  {
   "cell_type": "code",
   "execution_count": 3,
   "id": "bc8c7fcd",
   "metadata": {},
   "outputs": [],
   "source": [
    "C = set([3, 6, 9, 12, 15])"
   ]
  },
  {
   "cell_type": "markdown",
   "id": "5d1cf805",
   "metadata": {},
   "source": [
    "# Listas vs Conjuntos"
   ]
  },
  {
   "cell_type": "code",
   "execution_count": 4,
   "id": "f46b9fed",
   "metadata": {},
   "outputs": [],
   "source": [
    "lista = [1, 2, 3, 4, 5, 1, 2, 3, 4, 5]"
   ]
  },
  {
   "cell_type": "code",
   "execution_count": 5,
   "id": "4673a935",
   "metadata": {},
   "outputs": [
    {
     "data": {
      "text/plain": [
       "[1, 2, 3, 4, 5, 1, 2, 3, 4, 5]"
      ]
     },
     "execution_count": 5,
     "metadata": {},
     "output_type": "execute_result"
    }
   ],
   "source": [
    "lista"
   ]
  },
  {
   "cell_type": "code",
   "execution_count": 6,
   "id": "f872b29b",
   "metadata": {},
   "outputs": [],
   "source": [
    "Conjunto = set(lista)"
   ]
  },
  {
   "cell_type": "code",
   "execution_count": 7,
   "id": "14ef48df",
   "metadata": {},
   "outputs": [
    {
     "data": {
      "text/plain": [
       "{1, 2, 3, 4, 5}"
      ]
     },
     "execution_count": 7,
     "metadata": {},
     "output_type": "execute_result"
    }
   ],
   "source": [
    "Conjunto"
   ]
  },
  {
   "cell_type": "markdown",
   "id": "56320284",
   "metadata": {},
   "source": [
    "# Operaciones\n",
    "Phython proporciona operadores y metodos para realizar operaciones con conjuntos\n",
    "$$\n",
    "    C = A \\cup B = {x:x \\in A \\quad o \\quad x \\in B+}\n",
    "$$\n",
    "![Imagen](https://upload.wikimedia.org/wikipedia/commons/thumb/d/db/Intersecci%C3%B3n_entre_conjuntos.svg/300px-Intersecci%C3%B3n_entre_conjuntos.svg.png)\n",
    "\n",
    "## Union\n",
    "La unión se realiza con el caracter | y retorna un conjunto que contiene los elementos que se encuentran en al menos uno de los dos conjuntos involucrados en la operación."
   ]
  },
  {
   "cell_type": "code",
   "execution_count": 8,
   "id": "053d7652",
   "metadata": {},
   "outputs": [
    {
     "data": {
      "text/plain": [
       "{1, 2, 3, 4, 5, 6, 7}"
      ]
     },
     "execution_count": 8,
     "metadata": {},
     "output_type": "execute_result"
    }
   ],
   "source": [
    "A | B"
   ]
  },
  {
   "cell_type": "code",
   "execution_count": 9,
   "id": "ac70ebac",
   "metadata": {},
   "outputs": [
    {
     "data": {
      "text/plain": [
       "{1, 2, 3, 4, 5, 6, 7}"
      ]
     },
     "execution_count": 9,
     "metadata": {},
     "output_type": "execute_result"
    }
   ],
   "source": [
    "A.union(B)"
   ]
  },
  {
   "cell_type": "markdown",
   "id": "c388b215",
   "metadata": {},
   "source": [
    "## Interseccion\n",
    "La intersección opera de forma análoga, pero con el operador &, y retorna un nuevo conjunto con los elementos que se encuentran en ambos."
   ]
  },
  {
   "cell_type": "code",
   "execution_count": 10,
   "id": "abaf33fc",
   "metadata": {},
   "outputs": [
    {
     "data": {
      "text/plain": [
       "{3, 4, 5}"
      ]
     },
     "execution_count": 10,
     "metadata": {},
     "output_type": "execute_result"
    }
   ],
   "source": [
    "A & B"
   ]
  },
  {
   "cell_type": "code",
   "execution_count": 11,
   "id": "871f4468",
   "metadata": {},
   "outputs": [
    {
     "data": {
      "text/plain": [
       "{3, 4, 5}"
      ]
     },
     "execution_count": 11,
     "metadata": {},
     "output_type": "execute_result"
    }
   ],
   "source": [
    "A.intersection(B)"
   ]
  },
  {
   "cell_type": "markdown",
   "id": "fbf92df8",
   "metadata": {},
   "source": [
    "## Diferencia\n",
    "La diferencia, retorna un nuevo conjunto que contiene los elementos de A que no están en B."
   ]
  },
  {
   "cell_type": "code",
   "execution_count": 12,
   "id": "4b070921",
   "metadata": {},
   "outputs": [
    {
     "data": {
      "text/plain": [
       "{1, 2}"
      ]
     },
     "execution_count": 12,
     "metadata": {},
     "output_type": "execute_result"
    }
   ],
   "source": [
    "A - B"
   ]
  },
  {
   "cell_type": "code",
   "execution_count": 13,
   "id": "3a2756d0",
   "metadata": {},
   "outputs": [
    {
     "data": {
      "text/plain": [
       "{1, 2}"
      ]
     },
     "execution_count": 13,
     "metadata": {},
     "output_type": "execute_result"
    }
   ],
   "source": [
    "A.difference(B)"
   ]
  },
  {
   "cell_type": "code",
   "execution_count": 14,
   "id": "845321db",
   "metadata": {},
   "outputs": [
    {
     "data": {
      "text/plain": [
       "{6, 7}"
      ]
     },
     "execution_count": 14,
     "metadata": {},
     "output_type": "execute_result"
    }
   ],
   "source": [
    "B - A"
   ]
  },
  {
   "cell_type": "code",
   "execution_count": 15,
   "id": "a48f2160",
   "metadata": {},
   "outputs": [
    {
     "data": {
      "text/plain": [
       "{6, 7}"
      ]
     },
     "execution_count": 15,
     "metadata": {},
     "output_type": "execute_result"
    }
   ],
   "source": [
    "B.difference(A)"
   ]
  },
  {
   "cell_type": "markdown",
   "id": "bdf0d221",
   "metadata": {},
   "source": [
    "## Diferencia simetrica\n",
    "La diferencia simétrica retorna un nuevo conjunto el cual contiene los elementos que pertenecen a alguno de los dos conjuntos que participan en la operación pero no a ambos. Podría entenderse como una unión exclusiva."
   ]
  },
  {
   "cell_type": "code",
   "execution_count": 16,
   "id": "9d08d9b4",
   "metadata": {},
   "outputs": [
    {
     "data": {
      "text/plain": [
       "{1, 2, 6, 7}"
      ]
     },
     "execution_count": 16,
     "metadata": {},
     "output_type": "execute_result"
    }
   ],
   "source": [
    "A ^ B"
   ]
  },
  {
   "cell_type": "code",
   "execution_count": 19,
   "id": "24e8cd18",
   "metadata": {},
   "outputs": [
    {
     "data": {
      "text/plain": [
       "{1, 2, 6, 7}"
      ]
     },
     "execution_count": 19,
     "metadata": {},
     "output_type": "execute_result"
    }
   ],
   "source": [
    "A.symmetric_difference(B)"
   ]
  },
  {
   "cell_type": "markdown",
   "id": "f1fbe7e4",
   "metadata": {},
   "source": [
    "# Diagramas De Venn\n",
    "Es posible dibujar diagramas de venn utilisando  Python. hay varias bibliotecas que te permiten crear graficos incluidos diagramas de venn. Una de las bibliotecas mas populares para esto es matplotlib."
   ]
  },
  {
   "cell_type": "code",
   "execution_count": 20,
   "id": "d6859a4a",
   "metadata": {},
   "outputs": [
    {
     "name": "stdout",
     "output_type": "stream",
     "text": [
      "Requirement already satisfied: matplotlib_venn in c:\\users\\zs23017361\\appdata\\local\\anaconda3\\lib\\site-packages (0.11.10)\n",
      "Requirement already satisfied: matplotlib in c:\\users\\zs23017361\\appdata\\local\\anaconda3\\lib\\site-packages (from matplotlib_venn) (3.7.2)\n",
      "Requirement already satisfied: numpy in c:\\users\\zs23017361\\appdata\\local\\anaconda3\\lib\\site-packages (from matplotlib_venn) (1.24.3)\n",
      "Requirement already satisfied: scipy in c:\\users\\zs23017361\\appdata\\local\\anaconda3\\lib\\site-packages (from matplotlib_venn) (1.11.1)\n",
      "Requirement already satisfied: contourpy>=1.0.1 in c:\\users\\zs23017361\\appdata\\local\\anaconda3\\lib\\site-packages (from matplotlib->matplotlib_venn) (1.0.5)\n",
      "Requirement already satisfied: cycler>=0.10 in c:\\users\\zs23017361\\appdata\\local\\anaconda3\\lib\\site-packages (from matplotlib->matplotlib_venn) (0.11.0)\n",
      "Requirement already satisfied: fonttools>=4.22.0 in c:\\users\\zs23017361\\appdata\\local\\anaconda3\\lib\\site-packages (from matplotlib->matplotlib_venn) (4.25.0)\n",
      "Requirement already satisfied: kiwisolver>=1.0.1 in c:\\users\\zs23017361\\appdata\\local\\anaconda3\\lib\\site-packages (from matplotlib->matplotlib_venn) (1.4.4)\n",
      "Requirement already satisfied: packaging>=20.0 in c:\\users\\zs23017361\\appdata\\local\\anaconda3\\lib\\site-packages (from matplotlib->matplotlib_venn) (23.1)\n",
      "Requirement already satisfied: pillow>=6.2.0 in c:\\users\\zs23017361\\appdata\\local\\anaconda3\\lib\\site-packages (from matplotlib->matplotlib_venn) (9.4.0)\n",
      "Requirement already satisfied: pyparsing<3.1,>=2.3.1 in c:\\users\\zs23017361\\appdata\\local\\anaconda3\\lib\\site-packages (from matplotlib->matplotlib_venn) (3.0.9)\n",
      "Requirement already satisfied: python-dateutil>=2.7 in c:\\users\\zs23017361\\appdata\\local\\anaconda3\\lib\\site-packages (from matplotlib->matplotlib_venn) (2.8.2)\n",
      "Requirement already satisfied: six>=1.5 in c:\\users\\zs23017361\\appdata\\local\\anaconda3\\lib\\site-packages (from python-dateutil>=2.7->matplotlib->matplotlib_venn) (1.16.0)\n",
      "Note: you may need to restart the kernel to use updated packages.\n"
     ]
    }
   ],
   "source": [
    "pip install matplotlib_venn"
   ]
  },
  {
   "cell_type": "code",
   "execution_count": 21,
   "id": "84e74a78",
   "metadata": {},
   "outputs": [
    {
     "data": {
      "image/png": "[encoded data removed]",
      "text/plain": [
       "<Figure size 640x480 with 1 Axes>"
      ]
     },
     "metadata": {},
     "output_type": "display_data"
    }
   ],
   "source": [
    "from matplotlib import pyplot as plt\n",
    "from matplotlib_venn import venn2\n",
    "venn2((1, 1, 1))\n",
    "plt.show()"
   ]
  },
  {
   "cell_type": "code",
   "execution_count": 22,
   "id": "caf5cc4c",
   "metadata": {},
   "outputs": [
    {
     "ename": "NameError",
     "evalue": "name 'venn' is not defined",
     "output_type": "error",
     "traceback": [
      "\u001b[1;31m---------------------------------------------------------------------------\u001b[0m",
      "\u001b[1;31mNameError\u001b[0m                                 Traceback (most recent call last)",
      "Cell \u001b[1;32mIn[22], line 1\u001b[0m\n\u001b[1;32m----> 1\u001b[0m venn\u001b[38;5;241m.\u001b[39mvenn2([A,B],set_Lebals \u001b[38;5;241m=\u001b[39m (\u001b[38;5;124m'\u001b[39m\u001b[38;5;124mA\u001b[39m\u001b[38;5;124m'\u001b[39m, \u001b[38;5;124m'\u001b[39m\u001b[38;5;124mB\u001b[39m\u001b[38;5;124m'\u001b[39m))\n",
      "\u001b[1;31mNameError\u001b[0m: name 'venn' is not defined"
     ]
    }
   ],
   "source": [
    "venn.venn2([A,B],set_Lebals = ('A', 'B'))"
   ]
  },
  {
   "cell_type": "code",
   "execution_count": 23,
   "id": "7bb8f702",
   "metadata": {},
   "outputs": [
    {
     "data": {
      "text/plain": [
       "<matplotlib_venn._common.VennDiagram at 0x1fdb00e2390>"
      ]
     },
     "execution_count": 23,
     "metadata": {},
     "output_type": "execute_result"
    },
    {
     "data": {
      "image/png": "[encoded data removed]",
      "text/plain": [
       "<Figure size 640x480 with 1 Axes>"
      ]
     },
     "metadata": {},
     "output_type": "display_data"
    }
   ],
   "source": [
    "from matplotlib_venn import venn3\n",
    "venn3((1, 1, 1, 1, 1, 1, 1))"
   ]
  },
  {
   "cell_type": "code",
   "execution_count": null,
   "id": "361b8a92",
   "metadata": {},
   "outputs": [],
   "source": []
  }
 ],
 "metadata": {
  "kernelspec": {
   "display_name": "Python 3 (ipykernel)",
   "language": "python",
   "name": "python3"
  },
  "language_info": {
   "codemirror_mode": {
    "name": "ipython",
    "version": 3
   },
   "file_extension": ".py",
   "mimetype": "text/x-python",
   "name": "python",
   "nbconvert_exporter": "python",
   "pygments_lexer": "ipython3",
   "version": "3.11.5"
  }
 },
 "nbformat": 4,
 "nbformat_minor": 5
}
